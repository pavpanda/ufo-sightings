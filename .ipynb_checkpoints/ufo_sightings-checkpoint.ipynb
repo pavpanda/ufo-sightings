{
 "cells": [
  {
   "cell_type": "code",
   "execution_count": 1,
   "metadata": {},
   "outputs": [],
   "source": [
    "import numpy as np\n",
    "import pandas as pd\n",
    "import matplotlib.pyplot as plt"
   ]
  },
  {
   "cell_type": "code",
   "execution_count": 75,
   "metadata": {},
   "outputs": [
    {
     "data": {
      "text/plain": [
       "datetime                 object\n",
       "city                     object\n",
       "state                    object\n",
       "country                  object\n",
       "shape                    object\n",
       "duration (seconds)       object\n",
       "duration (hours/min)     object\n",
       "comments                 object\n",
       "date posted              object\n",
       "latitude                float64\n",
       "longitude               float64\n",
       "dtype: object"
      ]
     },
     "execution_count": 75,
     "metadata": {},
     "output_type": "execute_result"
    }
   ],
   "source": [
    "df = pd.read_csv('ufo_sightings_scrubbed.csv')\n",
    "world_map = gpd.read_file('ne_110m_land.shp')\n",
    "\n",
    "\n",
    "df['latitude'] = df[\"latitude\"].str.replace(r\"[a-zA-Z]\",'')\n",
    "df = df.astype({'latitude': 'str'})\n",
    "df = df.astype({'longitude ': 'str'})\n",
    "\n",
    "df['longitude '] = df[\"longitude \"].str.replace(r\"[a-zA-Z]\",'')\n",
    "\n",
    "df = df.astype({'latitude': 'float64'})\n",
    "df = df.astype({'longitude ': 'float64'})\n",
    "\n",
    "df.dtypes"
   ]
  }
 ],
 "metadata": {
  "kernelspec": {
   "display_name": "Python 3",
   "language": "python",
   "name": "python3"
  },
  "language_info": {
   "codemirror_mode": {
    "name": "ipython",
    "version": 3
   },
   "file_extension": ".py",
   "mimetype": "text/x-python",
   "name": "python",
   "nbconvert_exporter": "python",
   "pygments_lexer": "ipython3",
   "version": "3.7.3"
  }
 },
 "nbformat": 4,
 "nbformat_minor": 2
}
